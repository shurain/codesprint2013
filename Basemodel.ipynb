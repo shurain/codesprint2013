{
 "metadata": {
  "name": "Basemodel"
 },
 "nbformat": 3,
 "nbformat_minor": 0,
 "worksheets": [
  {
   "cells": [
    {
     "cell_type": "code",
     "collapsed": false,
     "input": [
      "import numpy as np\n",
      "import pandas as pd\n",
      "from IPython.core.display import HTML\n",
      "import matplotlib as mtp\n",
      "from pylab import *\n",
      "\n",
      "from datetime import datetime, timedelta\n",
      "from StringIO import StringIO"
     ],
     "language": "python",
     "metadata": {},
     "outputs": [],
     "prompt_number": 1
    },
    {
     "cell_type": "code",
     "collapsed": false,
     "input": [
      "parse = lambda x: datetime.strptime(x, '%Y%m%d %H%M')"
     ],
     "language": "python",
     "metadata": {},
     "outputs": [],
     "prompt_number": 2
    },
    {
     "cell_type": "code",
     "collapsed": false,
     "input": [
      "april = pd.read_csv('data/round2-4.csv', names=['date', 'time', 'direction', 'index', 'source', 'destination', 'distance', 'speed'], parse_dates=[[0, 1]], date_parser=parse, header=None)\n",
      "may = pd.read_csv('data/round2-5.csv', names=['date', 'time', 'direction', 'index', 'source', 'destination', 'distance', 'speed'], parse_dates=[[0, 1]], date_parser=parse, header=None)\n",
      "june = pd.read_csv('data/round2-6.csv', names=['date', 'time', 'direction', 'index', 'source', 'destination', 'distance', 'speed'], parse_dates=[[0, 1]], date_parser=parse, header=None)"
     ],
     "language": "python",
     "metadata": {},
     "outputs": [],
     "prompt_number": 73
    },
    {
     "cell_type": "markdown",
     "metadata": {},
     "source": [
      "\uac04\ub2e8\ud55c \uac80\uc99d\uc744 \uac70\uccd0\uc11c \ubaa8\ub378\uc744 \uc120\ud0dd\ud558\uae30\ub85c \ud55c\ub2e4. 4, 5\uc6d4\uc744 \ubaa8\ub378 \ud559\uc2b5\uc744 \uc704\ud55c \ub370\uc774\ud130\ub85c \uc0bc\uace0 6\uc6d4\uc744 \uc774\ub97c \uac80\uc99d\ud558\ub294 \ub370\uc774\ud130\ub85c \uc0bc\ub294\ub2e4."
     ]
    },
    {
     "cell_type": "code",
     "collapsed": false,
     "input": [
      "train = pd.concat([april, may])\n",
      "test = pd.concat([june])\n",
      "\n",
      "train = train.sort(['direction', 'index', 'date_time'])\n",
      "test = test.sort(['direction', 'index', 'date_time'])"
     ],
     "language": "python",
     "metadata": {},
     "outputs": [],
     "prompt_number": 149
    },
    {
     "cell_type": "markdown",
     "metadata": {},
     "source": [
      "Data analysis\uc5d0\uc11c \ud3c9\uc77c\uacfc \uc8fc\ub9d0\uc744 \ubd84\ub9ac\ud558\uc5ec \ubcf4\uae30\ub85c \ud558\uc600\ub294\ub370, \uac80\uc99d\uc744 \ud574\ubcf4\uc790. \uc77c\ub2e8 \uc804\uccb4 (\ud3c9\uc77c\uacfc \uc8fc\ub9d0) \ub370\uc774\ud130\ub97c \uc0ac\uc6a9\ud558\uc5ec median\uc744 \uad6c\ud574\ubcf4\uc790."
     ]
    },
    {
     "cell_type": "code",
     "collapsed": false,
     "input": [
      "whole_week = train.copy()\n",
      "whole_week['time'] = whole_week.date_time.apply(lambda x: \"{:02d}{:02d}\".format(x.hour, x.minute))\n",
      "group = whole_week.groupby(['direction', 'index', 'time'])\n",
      "df = group.median()\n",
      "median_model = df.reset_index()"
     ],
     "language": "python",
     "metadata": {},
     "outputs": [],
     "prompt_number": 150
    },
    {
     "cell_type": "code",
     "collapsed": false,
     "input": [
      "print median_model\n",
      "display(HTML(median_model[:10].to_html()))"
     ],
     "language": "python",
     "metadata": {},
     "outputs": [
      {
       "output_type": "stream",
       "stream": "stdout",
       "text": [
        "<class 'pandas.core.frame.DataFrame'>\n",
        "Int64Index: 72576 entries, 0 to 72575\n",
        "Data columns (total 5 columns):\n",
        "direction    72576  non-null values\n",
        "index        72576  non-null values\n",
        "time         72576  non-null values\n",
        "distance     72576  non-null values\n",
        "speed        72576  non-null values\n",
        "dtypes: float64(1), int64(2), object(2)\n"
       ]
      },
      {
       "html": [
        "<table border=\"1\" class=\"dataframe\">\n",
        "  <thead>\n",
        "    <tr style=\"text-align: right;\">\n",
        "      <th></th>\n",
        "      <th>direction</th>\n",
        "      <th>index</th>\n",
        "      <th>time</th>\n",
        "      <th>distance</th>\n",
        "      <th>speed</th>\n",
        "    </tr>\n",
        "  </thead>\n",
        "  <tbody>\n",
        "    <tr>\n",
        "      <th>0</th>\n",
        "      <td> D</td>\n",
        "      <td> 1</td>\n",
        "      <td> 0000</td>\n",
        "      <td> 1194</td>\n",
        "      <td> 89.55</td>\n",
        "    </tr>\n",
        "    <tr>\n",
        "      <th>1</th>\n",
        "      <td> D</td>\n",
        "      <td> 1</td>\n",
        "      <td> 0005</td>\n",
        "      <td> 1194</td>\n",
        "      <td> 91.46</td>\n",
        "    </tr>\n",
        "    <tr>\n",
        "      <th>2</th>\n",
        "      <td> D</td>\n",
        "      <td> 1</td>\n",
        "      <td> 0010</td>\n",
        "      <td> 1194</td>\n",
        "      <td> 91.46</td>\n",
        "    </tr>\n",
        "    <tr>\n",
        "      <th>3</th>\n",
        "      <td> D</td>\n",
        "      <td> 1</td>\n",
        "      <td> 0015</td>\n",
        "      <td> 1194</td>\n",
        "      <td> 93.44</td>\n",
        "    </tr>\n",
        "    <tr>\n",
        "      <th>4</th>\n",
        "      <td> D</td>\n",
        "      <td> 1</td>\n",
        "      <td> 0020</td>\n",
        "      <td> 1194</td>\n",
        "      <td> 95.52</td>\n",
        "    </tr>\n",
        "    <tr>\n",
        "      <th>5</th>\n",
        "      <td> D</td>\n",
        "      <td> 1</td>\n",
        "      <td> 0025</td>\n",
        "      <td> 1194</td>\n",
        "      <td> 95.52</td>\n",
        "    </tr>\n",
        "    <tr>\n",
        "      <th>6</th>\n",
        "      <td> D</td>\n",
        "      <td> 1</td>\n",
        "      <td> 0030</td>\n",
        "      <td> 1194</td>\n",
        "      <td> 95.52</td>\n",
        "    </tr>\n",
        "    <tr>\n",
        "      <th>7</th>\n",
        "      <td> D</td>\n",
        "      <td> 1</td>\n",
        "      <td> 0035</td>\n",
        "      <td> 1194</td>\n",
        "      <td> 95.52</td>\n",
        "    </tr>\n",
        "    <tr>\n",
        "      <th>8</th>\n",
        "      <td> D</td>\n",
        "      <td> 1</td>\n",
        "      <td> 0040</td>\n",
        "      <td> 1194</td>\n",
        "      <td> 97.69</td>\n",
        "    </tr>\n",
        "    <tr>\n",
        "      <th>9</th>\n",
        "      <td> D</td>\n",
        "      <td> 1</td>\n",
        "      <td> 0045</td>\n",
        "      <td> 1194</td>\n",
        "      <td> 97.69</td>\n",
        "    </tr>\n",
        "  </tbody>\n",
        "</table>"
       ],
       "output_type": "display_data",
       "text": [
        "<IPython.core.display.HTML at 0x42fcb90>"
       ]
      }
     ],
     "prompt_number": 52
    },
    {
     "cell_type": "markdown",
     "metadata": {},
     "source": [
      "Test\ub97c \uc5b4\ub5bb\uac8c \ud558\ub290\ub0d0\ub3c4 \ubb38\uc81c\uac00 \ub418\uc9c0\ub9cc \uc77c\ub2e8 \ud654\uc694\uc77c\uc5d0 \ub300\ud55c \uac80\uc99d\ub9cc \ud574\ubcf4\ub3c4\ub85d \ud558\uc790. 2013\ub144 6\uc6d4\uc758 \ud654\uc694\uc77c\uc740 6/4, 6/11, 6/18, 6/25\uc77c\uc774\ub2e4."
     ]
    },
    {
     "cell_type": "code",
     "collapsed": false,
     "input": [
      "def test_june(prediction, dow='tue'):\n",
      "    # dow\ub294 0\ubd80\ud130 6\uae4c\uc9c0\uc758 \uac12\uc73c\ub85c 0\uc774 \uc77c\uc694\uc77c\uc774\ub2e4. \ud654\uc694\uc77c\uc740 2\uc774\ub2e4.\n",
      "    week = ['sat', 'sun', 'mon', 'tue', 'wed', 'thu', 'fri']\n",
      "    i = week.index(dow.lower())\n",
      "    testing_days = range(i+1, 31, 7)\n",
      "\n",
      "    result = []\n",
      "    for k in testing_days:\n",
      "        test_data = june.copy()\n",
      "        test_data['day'] = test_data.date_time.apply(lambda x: int(x.day))\n",
      "        test_data['time'] = test_data.date_time.apply(lambda x: \"{:02d}{:02d}\".format(x.hour, x.minute))\n",
      "        test_data = test_data[test_data['day'] == k]\n",
      "        assert(len(test_data) == 2*126*288)\n",
      "        test_data = test_data.sort(['direction', 'index', 'time'])\n",
      "        prediction = prediction.sort(['direction', 'index', 'time'])\n",
      "        \n",
      "        result.append(np.mean(np.abs(prediction.speed.values - test_data.speed.values)))\n",
      "        \n",
      "    return result"
     ],
     "language": "python",
     "metadata": {},
     "outputs": [],
     "prompt_number": 176
    },
    {
     "cell_type": "code",
     "collapsed": false,
     "input": [
      "median_res = test_june(median_model, 'tue')\n",
      "print np.mean(median_res)\n",
      "print median_res"
     ],
     "language": "python",
     "metadata": {},
     "outputs": [
      {
       "output_type": "stream",
       "stream": "stdout",
       "text": [
        "5.86801621748\n",
        "[5.0517788249559956, 5.8417775848766516, 7.1962039792769419, 5.3823044808202543]\n"
       ]
      }
     ],
     "prompt_number": 177
    },
    {
     "cell_type": "markdown",
     "metadata": {},
     "source": [
      "\uc8fc\uc911\uc758 \ub370\uc774\ud130\ub9cc \ud65c\uc6a9\ud55c \ubaa8\ub378\uc744 \ub9cc\ub4e4\uc5b4\ubcf4\uc790."
     ]
    },
    {
     "cell_type": "code",
     "collapsed": false,
     "input": [
      "weekdays = train.copy()\n",
      "weekdays['weekday'] = weekdays['date_time'].apply(lambda x: x.weekday())\n",
      "weekdays = weekdays[weekdays['weekday'] < 5]\n",
      "del weekdays['weekday']\n",
      "weekdays['time'] = weekdays.date_time.apply(lambda x: \"{:02d}{:02d}\".format(x.hour, x.minute))\n",
      "group = weekdays.groupby(['direction', 'index', 'time'])\n",
      "df = group.median()\n",
      "weekday_median_model = df.reset_index()"
     ],
     "language": "python",
     "metadata": {},
     "outputs": [],
     "prompt_number": 154
    },
    {
     "cell_type": "code",
     "collapsed": false,
     "input": [
      "weekday_median_res = test_june(weekday_median_model, 'tue')\n",
      "print np.mean(weekday_median_res)\n",
      "print weekday_median_res"
     ],
     "language": "python",
     "metadata": {},
     "outputs": [
      {
       "output_type": "stream",
       "stream": "stdout",
       "text": [
        "5.85363191689\n",
        "[4.9729312720459697, 5.8052837026015318, 7.2075788139330363, 5.4287338789683348]\n"
       ]
      }
     ],
     "prompt_number": 169
    },
    {
     "cell_type": "markdown",
     "metadata": {},
     "source": [
      "\uc77c\ub2e8 \ud654\uc694\uc77c\uc5d0 \ub300\ud574\uc11c\ub294 \uc8fc\uc911 \ub370\uc774\ud130\ub9cc \ud65c\uc6a9\ud558\ub294 \uac83\uc774 \ub354 \uc88b\ub2e4. \ub2e4\ub9cc \ub370\uc774\ud130\ub97c \uc790\uc138\ud788 \uc0b4\ud3b4\ubcf4\uba74 2:2\uc758 \uacb0\uacfc\uc774\uba70 \ud558\ub8e8\ub294 \uac12\uc774 \uc880 \ud280\ub294 \uacbd\ud5a5\uc774 \uc788\ub2e4. \uc77c\ub2e8 \ub370\uc774\ud130 \ud3ec\uc778\ud2b8\uac00 4\uac1c \ubc16\uc5d0 \uc548 \ub418\uae30 \ub54c\ubb38\uc5d0 \ud1b5\uacc4\uc801\uc73c\ub85c \uc548\uc815\uc801\uc778 \uacb0\uacfc\ub77c \ud560 \uc218\ub294 \uc5c6\ub2e4."
     ]
    },
    {
     "cell_type": "code",
     "collapsed": false,
     "input": [
      "for i in range(7):\n",
      "    days = ['Sun', 'Mon', 'Tue', 'Wed', 'Thu', 'Fri', 'Sat']\n",
      "    print days[i]\n",
      "    res1 = test_june(median_model, days[i])\n",
      "    res2 = test_june(weekday_median_model, days[i])\n",
      "    print np.mean(res1), np.mean(res2)"
     ],
     "language": "python",
     "metadata": {},
     "outputs": [
      {
       "output_type": "stream",
       "stream": "stdout",
       "text": [
        "Sun\n",
        "5.21588125551"
       ]
      },
      {
       "output_type": "stream",
       "stream": "stdout",
       "text": [
        " 5.53193945657\n",
        "Mon\n",
        "5.04345772018"
       ]
      },
      {
       "output_type": "stream",
       "stream": "stdout",
       "text": [
        " 5.06026437803\n",
        "Tue\n",
        "5.86801621748"
       ]
      },
      {
       "output_type": "stream",
       "stream": "stdout",
       "text": [
        " 5.85363191689\n",
        "Wed\n",
        "5.47827828759"
       ]
      },
      {
       "output_type": "stream",
       "stream": "stdout",
       "text": [
        " 5.43223538084\n",
        "Thu\n",
        "5.25132619599"
       ]
      },
      {
       "output_type": "stream",
       "stream": "stdout",
       "text": [
        " 5.26708498677\n",
        "Fri\n",
        "5.1378397473"
       ]
      },
      {
       "output_type": "stream",
       "stream": "stdout",
       "text": [
        " 5.17411468667\n",
        "Sat\n",
        "5.33010967813"
       ]
      },
      {
       "output_type": "stream",
       "stream": "stdout",
       "text": [
        " 5.5877789903\n"
       ]
      }
     ],
     "prompt_number": 170
    },
    {
     "cell_type": "markdown",
     "metadata": {},
     "source": [
      "\uc8fc\ub9d0\uc758 \uacb0\uacfc\ub294 \uc804\uccb4 \ub370\uc774\ud130\ub97c \uc0ac\uc6a9\ud55c \uac83\uc774 \uc6d4\ub4f1\ud558\ub2e4. \ud3c9\uc77c\uc5d0\ub294 \uc870\uae08 \uac08\ub9ac\ub294 \uacbd\ud5a5\uc744 \ubcf4\uc778\ub2e4. \uc6d4, \ubaa9, \uae08\uc5d0\ub294 \uc804\uccb4 \ub370\uc774\ud130\ub97c \uc0ac\uc6a9\ud55c \ud3b8\uc774 \uc88b\uace0 \ud654, \uc218\uc5d0\ub294 \ud3c9\uc77c \ub370\uc774\ud130\ub9cc \ud65c\uc6a9\ud558\ub294 \uac83\uc774 \uc88b\ub2e4."
     ]
    }
   ],
   "metadata": {}
  }
 ]
}