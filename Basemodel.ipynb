{
 "metadata": {
  "name": "Basemodel"
 },
 "nbformat": 3,
 "nbformat_minor": 0,
 "worksheets": [
  {
   "cells": [
    {
     "cell_type": "code",
     "collapsed": false,
     "input": [
      "import numpy as np\n",
      "import pandas as pd\n",
      "from IPython.core.display import HTML\n",
      "import matplotlib as mtp\n",
      "from pylab import *\n",
      "\n",
      "from datetime import datetime, timedelta\n",
      "from StringIO import StringIO"
     ],
     "language": "python",
     "metadata": {},
     "outputs": [],
     "prompt_number": 1
    },
    {
     "cell_type": "code",
     "collapsed": false,
     "input": [
      "parse = lambda x: datetime.strptime(x, '%Y%m%d %H%M')"
     ],
     "language": "python",
     "metadata": {},
     "outputs": [],
     "prompt_number": 2
    },
    {
     "cell_type": "code",
     "collapsed": false,
     "input": [
      "april = pd.read_csv('data/round2-4.csv', names=['date', 'time', 'direction', 'index', 'source', 'destination', 'distance', 'speed'], parse_dates=[[0, 1]], date_parser=parse, header=None)\n",
      "may = pd.read_csv('data/round2-5.csv', names=['date', 'time', 'direction', 'index', 'source', 'destination', 'distance', 'speed'], parse_dates=[[0, 1]], date_parser=parse, header=None)\n",
      "june = pd.read_csv('data/round2-6.csv', names=['date', 'time', 'direction', 'index', 'source', 'destination', 'distance', 'speed'], parse_dates=[[0, 1]], date_parser=parse, header=None)"
     ],
     "language": "python",
     "metadata": {},
     "outputs": [],
     "prompt_number": 73
    },
    {
     "cell_type": "markdown",
     "metadata": {},
     "source": [
      "\uac04\ub2e8\ud55c \uac80\uc99d\uc744 \uac70\uccd0\uc11c \ubaa8\ub378\uc744 \uc120\ud0dd\ud558\uae30\ub85c \ud55c\ub2e4. 4, 5\uc6d4\uc744 \ubaa8\ub378 \ud559\uc2b5\uc744 \uc704\ud55c \ub370\uc774\ud130\ub85c \uc0bc\uace0 6\uc6d4\uc744 \uc774\ub97c \uac80\uc99d\ud558\ub294 \ub370\uc774\ud130\ub85c \uc0bc\ub294\ub2e4."
     ]
    },
    {
     "cell_type": "code",
     "collapsed": false,
     "input": [
      "train = pd.concat([april, may])\n",
      "test = pd.concat([june])\n",
      "\n",
      "train = train.sort(['direction', 'index', 'date_time'])\n",
      "test = test.sort(['direction', 'index', 'date_time'])"
     ],
     "language": "python",
     "metadata": {},
     "outputs": [],
     "prompt_number": 149
    },
    {
     "cell_type": "markdown",
     "metadata": {},
     "source": [
      "Data analysis\uc5d0\uc11c \ud3c9\uc77c\uacfc \uc8fc\ub9d0\uc744 \ubd84\ub9ac\ud558\uc5ec \ubcf4\uae30\ub85c \ud558\uc600\ub294\ub370, \uac80\uc99d\uc744 \ud574\ubcf4\uc790. \uc77c\ub2e8 \uc804\uccb4 (\ud3c9\uc77c\uacfc \uc8fc\ub9d0) \ub370\uc774\ud130\ub97c \uc0ac\uc6a9\ud558\uc5ec median\uc744 \uad6c\ud574\ubcf4\uc790."
     ]
    },
    {
     "cell_type": "code",
     "collapsed": false,
     "input": [
      "whole_week = train.copy()\n",
      "whole_week['time'] = whole_week.date_time.apply(lambda x: \"{:02d}{:02d}\".format(x.hour, x.minute))\n",
      "group = whole_week.groupby(['direction', 'index', 'time'])\n",
      "df = group.median()\n",
      "median_model = df.reset_index()"
     ],
     "language": "python",
     "metadata": {},
     "outputs": [],
     "prompt_number": 150
    },
    {
     "cell_type": "code",
     "collapsed": false,
     "input": [
      "print median_model\n",
      "display(HTML(median_model[:10].to_html()))"
     ],
     "language": "python",
     "metadata": {},
     "outputs": [
      {
       "output_type": "stream",
       "stream": "stdout",
       "text": [
        "<class 'pandas.core.frame.DataFrame'>\n",
        "Int64Index: 72576 entries, 0 to 72575\n",
        "Data columns (total 5 columns):\n",
        "direction    72576  non-null values\n",
        "index        72576  non-null values\n",
        "time         72576  non-null values\n",
        "distance     72576  non-null values\n",
        "speed        72576  non-null values\n",
        "dtypes: float64(1), int64(2), object(2)\n"
       ]
      },
      {
       "html": [
        "<table border=\"1\" class=\"dataframe\">\n",
        "  <thead>\n",
        "    <tr style=\"text-align: right;\">\n",
        "      <th></th>\n",
        "      <th>direction</th>\n",
        "      <th>index</th>\n",
        "      <th>time</th>\n",
        "      <th>distance</th>\n",
        "      <th>speed</th>\n",
        "    </tr>\n",
        "  </thead>\n",
        "  <tbody>\n",
        "    <tr>\n",
        "      <th>0</th>\n",
        "      <td> D</td>\n",
        "      <td> 1</td>\n",
        "      <td> 0000</td>\n",
        "      <td> 1194</td>\n",
        "      <td> 89.55</td>\n",
        "    </tr>\n",
        "    <tr>\n",
        "      <th>1</th>\n",
        "      <td> D</td>\n",
        "      <td> 1</td>\n",
        "      <td> 0005</td>\n",
        "      <td> 1194</td>\n",
        "      <td> 91.46</td>\n",
        "    </tr>\n",
        "    <tr>\n",
        "      <th>2</th>\n",
        "      <td> D</td>\n",
        "      <td> 1</td>\n",
        "      <td> 0010</td>\n",
        "      <td> 1194</td>\n",
        "      <td> 91.46</td>\n",
        "    </tr>\n",
        "    <tr>\n",
        "      <th>3</th>\n",
        "      <td> D</td>\n",
        "      <td> 1</td>\n",
        "      <td> 0015</td>\n",
        "      <td> 1194</td>\n",
        "      <td> 93.44</td>\n",
        "    </tr>\n",
        "    <tr>\n",
        "      <th>4</th>\n",
        "      <td> D</td>\n",
        "      <td> 1</td>\n",
        "      <td> 0020</td>\n",
        "      <td> 1194</td>\n",
        "      <td> 95.52</td>\n",
        "    </tr>\n",
        "    <tr>\n",
        "      <th>5</th>\n",
        "      <td> D</td>\n",
        "      <td> 1</td>\n",
        "      <td> 0025</td>\n",
        "      <td> 1194</td>\n",
        "      <td> 95.52</td>\n",
        "    </tr>\n",
        "    <tr>\n",
        "      <th>6</th>\n",
        "      <td> D</td>\n",
        "      <td> 1</td>\n",
        "      <td> 0030</td>\n",
        "      <td> 1194</td>\n",
        "      <td> 95.52</td>\n",
        "    </tr>\n",
        "    <tr>\n",
        "      <th>7</th>\n",
        "      <td> D</td>\n",
        "      <td> 1</td>\n",
        "      <td> 0035</td>\n",
        "      <td> 1194</td>\n",
        "      <td> 95.52</td>\n",
        "    </tr>\n",
        "    <tr>\n",
        "      <th>8</th>\n",
        "      <td> D</td>\n",
        "      <td> 1</td>\n",
        "      <td> 0040</td>\n",
        "      <td> 1194</td>\n",
        "      <td> 97.69</td>\n",
        "    </tr>\n",
        "    <tr>\n",
        "      <th>9</th>\n",
        "      <td> D</td>\n",
        "      <td> 1</td>\n",
        "      <td> 0045</td>\n",
        "      <td> 1194</td>\n",
        "      <td> 97.69</td>\n",
        "    </tr>\n",
        "  </tbody>\n",
        "</table>"
       ],
       "output_type": "display_data",
       "text": [
        "<IPython.core.display.HTML at 0x42fcb90>"
       ]
      }
     ],
     "prompt_number": 52
    },
    {
     "cell_type": "markdown",
     "metadata": {},
     "source": [
      "Test\ub97c \uc5b4\ub5bb\uac8c \ud558\ub290\ub0d0\ub3c4 \ubb38\uc81c\uac00 \ub418\uc9c0\ub9cc \uc77c\ub2e8 \ud654\uc694\uc77c\uc5d0 \ub300\ud55c \uac80\uc99d\ub9cc \ud574\ubcf4\ub3c4\ub85d \ud558\uc790. 2013\ub144 6\uc6d4\uc758 \ud654\uc694\uc77c\uc740 6/4, 6/11, 6/18, 6/25\uc77c\uc774\ub2e4."
     ]
    },
    {
     "cell_type": "code",
     "collapsed": false,
     "input": [
      "def test_june(prediction, dow='tue'):\n",
      "    # dow\ub294 0\ubd80\ud130 6\uae4c\uc9c0\uc758 \uac12\uc73c\ub85c 0\uc774 \uc77c\uc694\uc77c\uc774\ub2e4. \ud654\uc694\uc77c\uc740 2\uc774\ub2e4.\n",
      "    week = ['sat', 'sun', 'mon', 'tue', 'wed', 'thu', 'fri']\n",
      "    i = week.index(dow.lower()) \n",
      "    testing_days = range(i+1, 31, 7)\n",
      "\n",
      "    result = []\n",
      "    for k in testing_days:\n",
      "        test_data = june.copy()\n",
      "        test_data['day'] = test_data.date_time.apply(lambda x: int(x.day))\n",
      "        test_data['time'] = test_data.date_time.apply(lambda x: \"{:02d}{:02d}\".format(x.hour, x.minute))\n",
      "        test_data = test_data[test_data['day'] == k]\n",
      "        assert(len(test_data) == 2*126*288)\n",
      "        test_data = test_data.sort(['direction', 'index', 'time'])\n",
      "        prediction = prediction.sort(['direction', 'index', 'time'])\n",
      "        \n",
      "        result.append(np.mean(np.abs(prediction.speed.values - test_data.speed.values)))\n",
      "        \n",
      "    return result"
     ],
     "language": "python",
     "metadata": {},
     "outputs": [],
     "prompt_number": 176
    },
    {
     "cell_type": "code",
     "collapsed": false,
     "input": [
      "median_res = test_june(median_model, 'tue')\n",
      "print np.mean(median_res)\n",
      "print median_res"
     ],
     "language": "python",
     "metadata": {},
     "outputs": [
      {
       "output_type": "stream",
       "stream": "stdout",
       "text": [
        "5.86801621748\n",
        "[5.0517788249559956, 5.8417775848766516, 7.1962039792769419, 5.3823044808202543]\n"
       ]
      }
     ],
     "prompt_number": 177
    },
    {
     "cell_type": "markdown",
     "metadata": {},
     "source": [
      "\uc8fc\uc911\uc758 \ub370\uc774\ud130\ub9cc \ud65c\uc6a9\ud55c \ubaa8\ub378\uc744 \ub9cc\ub4e4\uc5b4\ubcf4\uc790."
     ]
    },
    {
     "cell_type": "code",
     "collapsed": false,
     "input": [
      "weekdays = train.copy()\n",
      "weekdays['weekday'] = weekdays['date_time'].apply(lambda x: x.weekday())\n",
      "weekdays = weekdays[weekdays['weekday'] < 5]\n",
      "del weekdays['weekday']\n",
      "weekdays['time'] = weekdays.date_time.apply(lambda x: \"{:02d}{:02d}\".format(x.hour, x.minute))\n",
      "group = weekdays.groupby(['direction', 'index', 'time'])\n",
      "df = group.median()\n",
      "weekday_median_model = df.reset_index()"
     ],
     "language": "python",
     "metadata": {},
     "outputs": [],
     "prompt_number": 154
    },
    {
     "cell_type": "code",
     "collapsed": false,
     "input": [
      "weekday_median_res = test_june(weekday_median_model, 'tue')\n",
      "print np.mean(weekday_median_res)\n",
      "print weekday_median_res"
     ],
     "language": "python",
     "metadata": {},
     "outputs": [
      {
       "output_type": "stream",
       "stream": "stdout",
       "text": [
        "5.85363191689\n",
        "[4.9729312720459697, 5.8052837026015318, 7.2075788139330363, 5.4287338789683348]\n"
       ]
      }
     ],
     "prompt_number": 169
    },
    {
     "cell_type": "markdown",
     "metadata": {},
     "source": [
      "\uc77c\ub2e8 \ud654\uc694\uc77c\uc5d0 \ub300\ud574\uc11c\ub294 \uc8fc\uc911 \ub370\uc774\ud130\ub9cc \ud65c\uc6a9\ud558\ub294 \uac83\uc774 \ub354 \uc88b\ub2e4. \ub2e4\ub9cc \ub370\uc774\ud130\ub97c \uc790\uc138\ud788 \uc0b4\ud3b4\ubcf4\uba74 2:2\uc758 \uacb0\uacfc\uc774\uba70 \ud558\ub8e8\ub294 \uac12\uc774 \uc880 \ud280\ub294 \uacbd\ud5a5\uc774 \uc788\ub2e4. \uc77c\ub2e8 \ub370\uc774\ud130 \ud3ec\uc778\ud2b8\uac00 4\uac1c \ubc16\uc5d0 \uc548 \ub418\uae30 \ub54c\ubb38\uc5d0 \ud1b5\uacc4\uc801\uc73c\ub85c \uc548\uc815\uc801\uc778 \uacb0\uacfc\ub77c \ud560 \uc218\ub294 \uc5c6\ub2e4."
     ]
    },
    {
     "cell_type": "code",
     "collapsed": false,
     "input": [
      "for i in range(7):\n",
      "    days = ['Sun', 'Mon', 'Tue', 'Wed', 'Thu', 'Fri', 'Sat']\n",
      "    print days[i]\n",
      "    res1 = test_june(median_model, days[i])\n",
      "    res2 = test_june(weekday_median_model, days[i])\n",
      "    print np.mean(res1), np.mean(res2)"
     ],
     "language": "python",
     "metadata": {},
     "outputs": [
      {
       "output_type": "stream",
       "stream": "stdout",
       "text": [
        "Sun\n",
        "5.21588125551"
       ]
      },
      {
       "output_type": "stream",
       "stream": "stdout",
       "text": [
        " 5.53193945657\n",
        "Mon\n",
        "5.04345772018"
       ]
      },
      {
       "output_type": "stream",
       "stream": "stdout",
       "text": [
        " 5.06026437803\n",
        "Tue\n",
        "5.86801621748"
       ]
      },
      {
       "output_type": "stream",
       "stream": "stdout",
       "text": [
        " 5.85363191689\n",
        "Wed\n",
        "5.47827828759"
       ]
      },
      {
       "output_type": "stream",
       "stream": "stdout",
       "text": [
        " 5.43223538084\n",
        "Thu\n",
        "5.25132619599"
       ]
      },
      {
       "output_type": "stream",
       "stream": "stdout",
       "text": [
        " 5.26708498677\n",
        "Fri\n",
        "5.1378397473"
       ]
      },
      {
       "output_type": "stream",
       "stream": "stdout",
       "text": [
        " 5.17411468667\n",
        "Sat\n",
        "5.33010967813"
       ]
      },
      {
       "output_type": "stream",
       "stream": "stdout",
       "text": [
        " 5.5877789903\n"
       ]
      }
     ],
     "prompt_number": 170
    },
    {
     "cell_type": "markdown",
     "metadata": {},
     "source": [
      "\uc8fc\ub9d0\uc758 \uacb0\uacfc\ub294 \uc804\uccb4 \ub370\uc774\ud130\ub97c \uc0ac\uc6a9\ud55c \uac83\uc774 \uc6d4\ub4f1\ud558\ub2e4. \ud3c9\uc77c\uc5d0\ub294 \uc870\uae08 \uac08\ub9ac\ub294 \uacbd\ud5a5\uc744 \ubcf4\uc778\ub2e4. \uc6d4, \ubaa9, \uae08\uc5d0\ub294 \uc804\uccb4 \ub370\uc774\ud130\ub97c \uc0ac\uc6a9\ud55c \ud3b8\uc774 \uc88b\uace0 \ud654, \uc218\uc5d0\ub294 \ud3c9\uc77c \ub370\uc774\ud130\ub9cc \ud65c\uc6a9\ud558\ub294 \uac83\uc774 \uc88b\ub2e4."
     ]
    },
    {
     "cell_type": "markdown",
     "metadata": {},
     "source": [
      "\uc870\uae08 \ub354 \ub098\uc740 \ubd84\uc11d\uc744 \uc704\ud574 \uc77c\uc885\uc758 bootstrap\uc744 \ud574\ubcf4\uc790."
     ]
    },
    {
     "cell_type": "code",
     "collapsed": false,
     "input": [
      "whole_data = pd.concat([april, may, june])"
     ],
     "language": "python",
     "metadata": {},
     "outputs": [],
     "prompt_number": 414
    },
    {
     "cell_type": "code",
     "collapsed": false,
     "input": [
      "whole_data['date'] = whole_data.date_time.apply(lambda x: x.date())\n",
      "whole_data['time'] = whole_data.date_time.apply(lambda x: \"{:02d}{:02d}\".format(x.hour, x.minute))\n",
      "whole_data['weekday'] = whole_data['date_time'].apply(lambda x: x.weekday())\n",
      "whole_data = whole_data.sort(['date', 'direction', 'index', 'time'])"
     ],
     "language": "python",
     "metadata": {},
     "outputs": [],
     "prompt_number": 415
    },
    {
     "cell_type": "code",
     "collapsed": false,
     "input": [
      "import random\n",
      "\n",
      "def bootstrap():\n",
      "    # 91 days\n",
      "    days = range(91)\n",
      "    random.shuffle(days)\n",
      "\n",
      "    STRIDE = 2 * 126 * 288\n",
      "    \n",
      "    test_range = days[:10]\n",
      "    train_range = days[10:]\n",
      "    \n",
      "    train_data = []\n",
      "    for x in train_range:\n",
      "        train_data.append(whole_data[x * STRIDE:(x + 1) * STRIDE])\n",
      "        \n",
      "    test_data = []\n",
      "    for x in test_range:\n",
      "        test_data.append(whole_data[x * STRIDE:(x + 1) * STRIDE])\n",
      "        \n",
      "    bootstrap_train = pd.concat(train_data)\n",
      "    bootstrap_test = pd.concat(test_data)\n",
      "\n",
      "    return bootstrap_train, bootstrap_test"
     ],
     "language": "python",
     "metadata": {},
     "outputs": [],
     "prompt_number": 416
    },
    {
     "cell_type": "code",
     "collapsed": false,
     "input": [
      "def test_bootstrap(prediction, test_data, dow='tue'):\n",
      "    week = ['mon', 'tue', 'wed', 'thu', 'fri', 'sat', 'sun']\n",
      "    i = week.index(dow.lower())\n",
      "    \n",
      "    test_data = test_data[test_data['weekday'] == i]\n",
      "    \n",
      "    STRIDE = 2 * 126 * 288\n",
      "    stepsize = len(test_data) / STRIDE\n",
      "    \n",
      "    result = []\n",
      "    for k in range(stepsize):\n",
      "        temp_data = test_data[k * STRIDE:(k + 1) * STRIDE]\n",
      "        temp_data = temp_data.sort(['direction', 'index', 'time'])\n",
      "        prediction = prediction.sort(['direction', 'index', 'time'])\n",
      "        \n",
      "        result.append(np.mean(np.abs(prediction.speed.values - temp_data.speed.values)))\n",
      "        \n",
      "    return result"
     ],
     "language": "python",
     "metadata": {},
     "outputs": [],
     "prompt_number": 435
    },
    {
     "cell_type": "code",
     "collapsed": false,
     "input": [
      "for x in range(10):\n",
      "    train, test = bootstrap()\n",
      "\n",
      "    group = train.groupby(['direction', 'index', 'time'])\n",
      "    df = group.median()\n",
      "    bootstrap_median_model = df.reset_index()\n",
      "    \n",
      "    weekdays = train[train['weekday'] < 5]\n",
      "    group = weekdays.groupby(['direction', 'index', 'time'])\n",
      "    df = group.median()\n",
      "    bootstrap_weekday_median_model = df.reset_index()\n",
      "    \n",
      "    bootstrap_median_model_res = test_bootstrap(bootstrap_median_model, test, 'tue')\n",
      "    bootstrap_weekday_median_model_res = test_bootstrap(bootstrap_weekday_median_model, test, 'tue')\n",
      "    \n",
      "    print np.mean(bootstrap_median_model_res), np.mean(bootstrap_weekday_median_model_res)\n",
      "    print np.mean(bootstrap_median_model_res) - np.mean(bootstrap_weekday_median_model_res)"
     ],
     "language": "python",
     "metadata": {},
     "outputs": [
      {
       "output_type": "stream",
       "stream": "stdout",
       "text": [
        "5.70950851521 5.63358410494\n",
        "0.0759244102734\n",
        "7.1885464892"
       ]
      },
      {
       "output_type": "stream",
       "stream": "stdout",
       "text": [
        " 7.15946111662\n",
        "0.029085372575\n",
        "5.51540412809"
       ]
      },
      {
       "output_type": "stream",
       "stream": "stdout",
       "text": [
        " 5.43741746583\n",
        "0.0779866622575\n",
        "6.530541708"
       ]
      },
      {
       "output_type": "stream",
       "stream": "stdout",
       "text": [
        " 6.455060695\n",
        "0.0754810130071\n",
        "6.32377324001"
       ]
      },
      {
       "output_type": "stream",
       "stream": "stdout",
       "text": [
        " 6.27039898405\n",
        "0.0533742559524\n",
        "nan"
       ]
      },
      {
       "output_type": "stream",
       "stream": "stdout",
       "text": [
        " nan\n",
        "nan\n",
        "5.8434467317"
       ]
      },
      {
       "output_type": "stream",
       "stream": "stdout",
       "text": [
        " 5.77466614308\n",
        "0.0687805886243\n",
        "nan"
       ]
      },
      {
       "output_type": "stream",
       "stream": "stdout",
       "text": [
        " nan\n",
        "nan\n",
        "5.26708581349"
       ]
      },
      {
       "output_type": "stream",
       "stream": "stdout",
       "text": [
        " 5.22602423666\n",
        "0.0410615768298\n",
        "nan"
       ]
      },
      {
       "output_type": "stream",
       "stream": "stdout",
       "text": [
        " nan\n",
        "nan\n"
       ]
      }
     ],
     "prompt_number": 438
    },
    {
     "cell_type": "markdown",
     "metadata": {},
     "source": [
      "\ud654\uc694\uc77c \uae30\uc900\uc73c\ub85c\ub294 \ud3c9\uc77c \ub370\uc774\ud130\ub97c \uc0ac\uc6a9\ud55c \uac83\uc774 \ud56d\uc0c1 \uc6b0\uc6d4\ud558\ub2e4."
     ]
    },
    {
     "cell_type": "code",
     "collapsed": false,
     "input": [
      "for y in ['Mon', 'Tue', 'Wed', 'Thu', 'Fri', 'Sat', 'Sun']:\n",
      "    print y\n",
      "    result = []\n",
      "    for x in range(10):\n",
      "        train, test = bootstrap()\n",
      "    \n",
      "        group = train.groupby(['direction', 'index', 'time'])\n",
      "        df = group.median()\n",
      "        bootstrap_median_model = df.reset_index()\n",
      "        \n",
      "        weekdays = train[train['weekday'] < 5]\n",
      "        group = weekdays.groupby(['direction', 'index', 'time'])\n",
      "        df = group.median()\n",
      "        bootstrap_weekday_median_model = df.reset_index()\n",
      "        \n",
      "        bootstrap_median_model_res = test_bootstrap(bootstrap_median_model, test, y)\n",
      "        bootstrap_weekday_median_model_res = test_bootstrap(bootstrap_weekday_median_model, test, y)\n",
      "        \n",
      "        #print np.mean(bootstrap_median_model_res), np.mean(bootstrap_weekday_median_model_res)\n",
      "        result.append(np.mean(bootstrap_median_model_res) - np.mean(bootstrap_weekday_median_model_res))\n",
      "    print result"
     ],
     "language": "python",
     "metadata": {},
     "outputs": [
      {
       "output_type": "stream",
       "stream": "stdout",
       "text": [
        "Mon\n",
        "[-0.023375909391539551, -0.06086681547616557, -0.012561590608433981, nan, nan, nan, -0.05952656525568667, nan, -0.028339625587856077, nan]"
       ]
      },
      {
       "output_type": "stream",
       "stream": "stdout",
       "text": [
        "\n",
        "Tue\n",
        "[nan, 0.077261422508857258, 0.070619901895995874, 0.052018435846600042, nan, 0.074231977513263381, nan, nan, 0.072083700764270731, 0.077047991071395927]"
       ]
      },
      {
       "output_type": "stream",
       "stream": "stdout",
       "text": [
        "\n",
        "Wed\n",
        "[nan, 0.068167851631380394, nan, 0.082553736772487341, 0.10715567129635151, 0.07470589451063514, 0.13339382164906333, 0.096218102403070382, 0.1014401455026972, 0.089521053791863814]"
       ]
      },
      {
       "output_type": "stream",
       "stream": "stdout",
       "text": [
        "\n",
        "Thu\n",
        "[-0.04177241787917918, 0.056818094135819841, nan, -0.05548232197971803, -0.1252952766754456, 0.054501212522067632, -0.056542245370358124, 0.036070188492058008, -0.11922054122570458, -0.047127149470937546]"
       ]
      },
      {
       "output_type": "stream",
       "stream": "stdout",
       "text": [
        "\n",
        "Fri\n",
        "[-0.087956532921810826, 0.048773148148160139, 0.0041973930776304513, 0.010994130291071436, nan, 0.020946731701977583, nan, -0.02590015983243088, 0.032387152777790362, nan]"
       ]
      },
      {
       "output_type": "stream",
       "stream": "stdout",
       "text": [
        "\n",
        "Sat\n",
        "[-0.3166630153217147, -0.23317274305552704, -0.29737234071866681, nan, -0.14992242614640539, nan, -0.2324280753968333, nan, -0.29582906194884728, -0.27453579695760677]"
       ]
      },
      {
       "output_type": "stream",
       "stream": "stdout",
       "text": [
        "\n",
        "Sun\n",
        "[-0.30977037863752166, -0.28713824129186527, -0.4131288580246828, -0.38705522486761001, nan, -0.38592013888885379, nan, -0.38506668871243299, -0.40122010030861155, -0.35360298170187221]"
       ]
      },
      {
       "output_type": "stream",
       "stream": "stdout",
       "text": [
        "\n"
       ]
      }
     ],
     "prompt_number": 439
    },
    {
     "cell_type": "markdown",
     "metadata": {},
     "source": [
      "\uc804\uccb4 \uc694\uc77c\uc5d0 \ub300\ud574 \ube44\uc2b7\ud558\uac8c bootstrap \ubd84\uc11d\uc744 \ud574\ubcf4\uba74 \uc804\uccb4 \ub370\uc774\ud130\ub97c \uc0ac\uc6a9\ud558\ub294 \ud3b8\uc774 \uc8fc\ub9d0\uc740 \ubb3c\ub860\uc774\uace0 \uc6d4, \ubaa9\uc5d0 \ub354 \uc6b0\uc6d4\ud55c \uc804\ub7b5\uc774\ub2e4. \ud654\uc694\uc77c\uacfc \uc218\uc694\uc77c \uadf8\ub9ac\uace0 \uae08\uc694\uc77c\uc5d0\ub294 \ud3c9\uc77c \ub370\uc774\ud130\ub9cc \uc0ac\uc6a9\ud558\ub294 \ud3b8\uc774 \ub354 \uc6b0\uc6d4\ud558\ub2e4. \uc774\ub294 \ub530\ub85c bootstrap\uc744 \ud558\uc9c0 \uc54a\uc740 \uacb0\uacfc\uc640 \ub3d9\uc77c\ud558\ub2e4. \uc774 \ubd84\uc11d\uc744 \ud1b5\ud574 \ucd94\uac00\uc801\uc73c\ub85c \uc54c \uc218 \uc788\ub294 \uac83\uc740 \ubaa9\uc694\uc77c\uacfc \uae08\uc694\uc77c\uc774 \uac01\uac01 6:3\uacfc 2:5\ub85c \uc804\uccb4 \ub370\uc774\ud130\uac00 \ub354 \ub098\uc740 \uc804\ub7b5\uc774\ub77c\ub294 \uac83\uc774\ub2e4.\n",
      "\n",
      "\uc774\ub97c \ub354 \uc0dd\uac01\ud574\ubcf4\uba74 \uc694\uc77c\ubcc4\ub85c \uacb0\uacfc\uac00 \ub2e4\ub974\ub2c8 \ub370\uc774\ud130\ub97c \ubf51\uc544\ub0b4\ub294 \ubaa8\uc9d1\ub2e8\ub3c4 \ub354 \uc138\ubc00\ud558\uac8c \ub098\ub220\ubcf4\ub294 \uac83\uc744 \uace0\ub824\ud560 \uc218 \uc788\uc744 \uac83\uc774\ub2e4."
     ]
    },
    {
     "cell_type": "code",
     "collapsed": false,
     "input": [],
     "language": "python",
     "metadata": {},
     "outputs": []
    }
   ],
   "metadata": {}
  }
 ]
}