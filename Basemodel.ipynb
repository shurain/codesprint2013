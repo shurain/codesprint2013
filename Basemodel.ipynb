{
 "metadata": {
  "name": "Basemodel"
 },
 "nbformat": 3,
 "nbformat_minor": 0,
 "worksheets": [
  {
   "cells": [
    {
     "cell_type": "code",
     "collapsed": false,
     "input": [
      "import numpy as np\n",
      "import pandas as pd\n",
      "from IPython.core.display import HTML\n",
      "import matplotlib as mtp\n",
      "from pylab import *\n",
      "\n",
      "from datetime import datetime, timedelta\n",
      "from StringIO import StringIO"
     ],
     "language": "python",
     "metadata": {},
     "outputs": [],
     "prompt_number": 1
    },
    {
     "cell_type": "code",
     "collapsed": false,
     "input": [
      "parse = lambda x: datetime.strptime(x, '%Y%m%d %H%M')"
     ],
     "language": "python",
     "metadata": {},
     "outputs": [],
     "prompt_number": 2
    },
    {
     "cell_type": "code",
     "collapsed": false,
     "input": [
      "april = pd.read_csv('data/round2-4.csv', names=['date', 'time', 'direction', 'index', 'source', 'destination', 'distance', 'speed'], parse_dates=[[0, 1]], date_parser=parse, header=None)\n",
      "may = pd.read_csv('data/round2-5.csv', names=['date', 'time', 'direction', 'index', 'source', 'destination', 'distance', 'speed'], parse_dates=[[0, 1]], date_parser=parse, header=None)\n",
      "june = pd.read_csv('data/round2-6.csv', names=['date', 'time', 'direction', 'index', 'source', 'destination', 'distance', 'speed'], parse_dates=[[0, 1]], date_parser=parse, header=None)"
     ],
     "language": "python",
     "metadata": {},
     "outputs": [],
     "prompt_number": 73
    },
    {
     "cell_type": "markdown",
     "metadata": {},
     "source": [
      "\uac04\ub2e8\ud55c \uac80\uc99d\uc744 \uac70\uccd0\uc11c \ubaa8\ub378\uc744 \uc120\ud0dd\ud558\uae30\ub85c \ud55c\ub2e4. 4, 5\uc6d4\uc744 \ubaa8\ub378 \ud559\uc2b5\uc744 \uc704\ud55c \ub370\uc774\ud130\ub85c \uc0bc\uace0 6\uc6d4\uc744 \uc774\ub97c \uac80\uc99d\ud558\ub294 \ub370\uc774\ud130\ub85c \uc0bc\ub294\ub2e4."
     ]
    },
    {
     "cell_type": "code",
     "collapsed": false,
     "input": [
      "train = pd.concat([april, may])\n",
      "test = pd.concat([june])\n",
      "\n",
      "train = train.sort(['direction', 'index', 'date_time'])\n",
      "test = test.sort(['direction', 'index', 'date_time'])"
     ],
     "language": "python",
     "metadata": {},
     "outputs": [],
     "prompt_number": 149
    },
    {
     "cell_type": "markdown",
     "metadata": {},
     "source": [
      "Data analysis\uc5d0\uc11c \ud3c9\uc77c\uacfc \uc8fc\ub9d0\uc744 \ubd84\ub9ac\ud558\uc5ec \ubcf4\uae30\ub85c \ud558\uc600\ub294\ub370, \uac80\uc99d\uc744 \ud574\ubcf4\uc790. \uc77c\ub2e8 \uc804\uccb4 (\ud3c9\uc77c\uacfc \uc8fc\ub9d0) \ub370\uc774\ud130\ub97c \uc0ac\uc6a9\ud558\uc5ec median\uc744 \uad6c\ud574\ubcf4\uc790."
     ]
    },
    {
     "cell_type": "code",
     "collapsed": false,
     "input": [
      "whole_week = train.copy()\n",
      "whole_week['time'] = whole_week.date_time.apply(lambda x: \"{:02d}{:02d}\".format(x.hour, x.minute))\n",
      "group = whole_week.groupby(['direction', 'index', 'time'])\n",
      "df = group.median()\n",
      "median_model = df.reset_index()"
     ],
     "language": "python",
     "metadata": {},
     "outputs": [],
     "prompt_number": 150
    },
    {
     "cell_type": "code",
     "collapsed": false,
     "input": [
      "print median_model\n",
      "display(HTML(median_model[:10].to_html()))"
     ],
     "language": "python",
     "metadata": {},
     "outputs": [
      {
       "output_type": "stream",
       "stream": "stdout",
       "text": [
        "<class 'pandas.core.frame.DataFrame'>\n",
        "Int64Index: 72576 entries, 0 to 72575\n",
        "Data columns (total 5 columns):\n",
        "direction    72576  non-null values\n",
        "index        72576  non-null values\n",
        "time         72576  non-null values\n",
        "distance     72576  non-null values\n",
        "speed        72576  non-null values\n",
        "dtypes: float64(1), int64(2), object(2)\n"
       ]
      },
      {
       "html": [
        "<table border=\"1\" class=\"dataframe\">\n",
        "  <thead>\n",
        "    <tr style=\"text-align: right;\">\n",
        "      <th></th>\n",
        "      <th>direction</th>\n",
        "      <th>index</th>\n",
        "      <th>time</th>\n",
        "      <th>distance</th>\n",
        "      <th>speed</th>\n",
        "    </tr>\n",
        "  </thead>\n",
        "  <tbody>\n",
        "    <tr>\n",
        "      <th>0</th>\n",
        "      <td> D</td>\n",
        "      <td> 1</td>\n",
        "      <td> 0000</td>\n",
        "      <td> 1194</td>\n",
        "      <td> 89.55</td>\n",
        "    </tr>\n",
        "    <tr>\n",
        "      <th>1</th>\n",
        "      <td> D</td>\n",
        "      <td> 1</td>\n",
        "      <td> 0005</td>\n",
        "      <td> 1194</td>\n",
        "      <td> 91.46</td>\n",
        "    </tr>\n",
        "    <tr>\n",
        "      <th>2</th>\n",
        "      <td> D</td>\n",
        "      <td> 1</td>\n",
        "      <td> 0010</td>\n",
        "      <td> 1194</td>\n",
        "      <td> 91.46</td>\n",
        "    </tr>\n",
        "    <tr>\n",
        "      <th>3</th>\n",
        "      <td> D</td>\n",
        "      <td> 1</td>\n",
        "      <td> 0015</td>\n",
        "      <td> 1194</td>\n",
        "      <td> 93.44</td>\n",
        "    </tr>\n",
        "    <tr>\n",
        "      <th>4</th>\n",
        "      <td> D</td>\n",
        "      <td> 1</td>\n",
        "      <td> 0020</td>\n",
        "      <td> 1194</td>\n",
        "      <td> 95.52</td>\n",
        "    </tr>\n",
        "    <tr>\n",
        "      <th>5</th>\n",
        "      <td> D</td>\n",
        "      <td> 1</td>\n",
        "      <td> 0025</td>\n",
        "      <td> 1194</td>\n",
        "      <td> 95.52</td>\n",
        "    </tr>\n",
        "    <tr>\n",
        "      <th>6</th>\n",
        "      <td> D</td>\n",
        "      <td> 1</td>\n",
        "      <td> 0030</td>\n",
        "      <td> 1194</td>\n",
        "      <td> 95.52</td>\n",
        "    </tr>\n",
        "    <tr>\n",
        "      <th>7</th>\n",
        "      <td> D</td>\n",
        "      <td> 1</td>\n",
        "      <td> 0035</td>\n",
        "      <td> 1194</td>\n",
        "      <td> 95.52</td>\n",
        "    </tr>\n",
        "    <tr>\n",
        "      <th>8</th>\n",
        "      <td> D</td>\n",
        "      <td> 1</td>\n",
        "      <td> 0040</td>\n",
        "      <td> 1194</td>\n",
        "      <td> 97.69</td>\n",
        "    </tr>\n",
        "    <tr>\n",
        "      <th>9</th>\n",
        "      <td> D</td>\n",
        "      <td> 1</td>\n",
        "      <td> 0045</td>\n",
        "      <td> 1194</td>\n",
        "      <td> 97.69</td>\n",
        "    </tr>\n",
        "  </tbody>\n",
        "</table>"
       ],
       "output_type": "display_data",
       "text": [
        "<IPython.core.display.HTML at 0x42fcb90>"
       ]
      }
     ],
     "prompt_number": 52
    },
    {
     "cell_type": "markdown",
     "metadata": {},
     "source": [
      "Test\ub97c \uc5b4\ub5bb\uac8c \ud558\ub290\ub0d0\ub3c4 \ubb38\uc81c\uac00 \ub418\uc9c0\ub9cc \uc77c\ub2e8 \ud654\uc694\uc77c\uc5d0 \ub300\ud55c \uac80\uc99d\ub9cc \ud574\ubcf4\ub3c4\ub85d \ud558\uc790. 2013\ub144 6\uc6d4\uc758 \ud654\uc694\uc77c\uc740 6/4, 6/11, 6/18, 6/25\uc77c\uc774\ub2e4."
     ]
    },
    {
     "cell_type": "code",
     "collapsed": false,
     "input": [
      "def test_june(prediction, dow='tue'):\n",
      "    week = ['sat', 'sun', 'mon', 'tue', 'wed', 'thu', 'fri']\n",
      "    i = week.index(dow.lower()) \n",
      "    testing_days = range(i+1, 31, 7)\n",
      "\n",
      "    result = []\n",
      "    for k in testing_days:\n",
      "        test_data = june.copy()\n",
      "        test_data['day'] = test_data.date_time.apply(lambda x: int(x.day))\n",
      "        test_data['time'] = test_data.date_time.apply(lambda x: \"{:02d}{:02d}\".format(x.hour, x.minute))\n",
      "        test_data = test_data[test_data['day'] == k]\n",
      "        assert(len(test_data) == 2*126*288)\n",
      "        test_data = test_data.sort(['direction', 'index', 'time'])\n",
      "        prediction = prediction.sort(['direction', 'index', 'time'])\n",
      "        \n",
      "        result.append(np.mean(np.abs(prediction.speed.values - test_data.speed.values)))\n",
      "        \n",
      "    return result"
     ],
     "language": "python",
     "metadata": {},
     "outputs": [],
     "prompt_number": 176
    },
    {
     "cell_type": "code",
     "collapsed": false,
     "input": [
      "median_res = test_june(median_model, 'tue')\n",
      "print np.mean(median_res)\n",
      "print median_res"
     ],
     "language": "python",
     "metadata": {},
     "outputs": [
      {
       "output_type": "stream",
       "stream": "stdout",
       "text": [
        "5.86801621748\n",
        "[5.0517788249559956, 5.8417775848766516, 7.1962039792769419, 5.3823044808202543]\n"
       ]
      }
     ],
     "prompt_number": 177
    },
    {
     "cell_type": "markdown",
     "metadata": {},
     "source": [
      "\uc8fc\uc911\uc758 \ub370\uc774\ud130\ub9cc \ud65c\uc6a9\ud55c \ubaa8\ub378\uc744 \ub9cc\ub4e4\uc5b4\ubcf4\uc790."
     ]
    },
    {
     "cell_type": "code",
     "collapsed": false,
     "input": [
      "weekdays = train.copy()\n",
      "weekdays['weekday'] = weekdays['date_time'].apply(lambda x: x.weekday())\n",
      "weekdays = weekdays[weekdays['weekday'] < 5]\n",
      "del weekdays['weekday']\n",
      "weekdays['time'] = weekdays.date_time.apply(lambda x: \"{:02d}{:02d}\".format(x.hour, x.minute))\n",
      "group = weekdays.groupby(['direction', 'index', 'time'])\n",
      "df = group.median()\n",
      "weekday_median_model = df.reset_index()"
     ],
     "language": "python",
     "metadata": {},
     "outputs": [],
     "prompt_number": 154
    },
    {
     "cell_type": "code",
     "collapsed": false,
     "input": [
      "weekday_median_res = test_june(weekday_median_model, 'tue')\n",
      "print np.mean(weekday_median_res)\n",
      "print weekday_median_res"
     ],
     "language": "python",
     "metadata": {},
     "outputs": [
      {
       "output_type": "stream",
       "stream": "stdout",
       "text": [
        "5.85363191689\n",
        "[4.9729312720459697, 5.8052837026015318, 7.2075788139330363, 5.4287338789683348]\n"
       ]
      }
     ],
     "prompt_number": 169
    },
    {
     "cell_type": "markdown",
     "metadata": {},
     "source": [
      "\uc77c\ub2e8 \ud654\uc694\uc77c\uc5d0 \ub300\ud574\uc11c\ub294 \uc8fc\uc911 \ub370\uc774\ud130\ub9cc \ud65c\uc6a9\ud558\ub294 \uac83\uc774 \ub354 \uc88b\ub2e4. \ub2e4\ub9cc \ub370\uc774\ud130\ub97c \uc790\uc138\ud788 \uc0b4\ud3b4\ubcf4\uba74 2:2\uc758 \uacb0\uacfc\uc774\uba70 \ud558\ub8e8\ub294 \uac12\uc774 \uc880 \ud280\ub294 \uacbd\ud5a5\uc774 \uc788\ub2e4. \uc77c\ub2e8 \ub370\uc774\ud130 \ud3ec\uc778\ud2b8\uac00 4\uac1c \ubc16\uc5d0 \uc548 \ub418\uae30 \ub54c\ubb38\uc5d0 \ud1b5\uacc4\uc801\uc73c\ub85c \uc548\uc815\uc801\uc778 \uacb0\uacfc\ub77c \ud560 \uc218\ub294 \uc5c6\ub2e4."
     ]
    },
    {
     "cell_type": "code",
     "collapsed": false,
     "input": [
      "for i in range(7):\n",
      "    days = ['Sun', 'Mon', 'Tue', 'Wed', 'Thu', 'Fri', 'Sat']\n",
      "    print days[i]\n",
      "    res1 = test_june(median_model, days[i])\n",
      "    res2 = test_june(weekday_median_model, days[i])\n",
      "    print np.mean(res1), np.mean(res2)"
     ],
     "language": "python",
     "metadata": {},
     "outputs": [
      {
       "output_type": "stream",
       "stream": "stdout",
       "text": [
        "Sun\n",
        "5.21588125551"
       ]
      },
      {
       "output_type": "stream",
       "stream": "stdout",
       "text": [
        " 5.53193945657\n",
        "Mon\n",
        "5.04345772018"
       ]
      },
      {
       "output_type": "stream",
       "stream": "stdout",
       "text": [
        " 5.06026437803\n",
        "Tue\n",
        "5.86801621748"
       ]
      },
      {
       "output_type": "stream",
       "stream": "stdout",
       "text": [
        " 5.85363191689\n",
        "Wed\n",
        "5.47827828759"
       ]
      },
      {
       "output_type": "stream",
       "stream": "stdout",
       "text": [
        " 5.43223538084\n",
        "Thu\n",
        "5.25132619599"
       ]
      },
      {
       "output_type": "stream",
       "stream": "stdout",
       "text": [
        " 5.26708498677\n",
        "Fri\n",
        "5.1378397473"
       ]
      },
      {
       "output_type": "stream",
       "stream": "stdout",
       "text": [
        " 5.17411468667\n",
        "Sat\n",
        "5.33010967813"
       ]
      },
      {
       "output_type": "stream",
       "stream": "stdout",
       "text": [
        " 5.5877789903\n"
       ]
      }
     ],
     "prompt_number": 170
    },
    {
     "cell_type": "markdown",
     "metadata": {},
     "source": [
      "\uc8fc\ub9d0\uc758 \uacb0\uacfc\ub294 \uc804\uccb4 \ub370\uc774\ud130\ub97c \uc0ac\uc6a9\ud55c \uac83\uc774 \uc6d4\ub4f1\ud558\ub2e4. \ud3c9\uc77c\uc5d0\ub294 \uc870\uae08 \uac08\ub9ac\ub294 \uacbd\ud5a5\uc744 \ubcf4\uc778\ub2e4. \uc6d4, \ubaa9, \uae08\uc5d0\ub294 \uc804\uccb4 \ub370\uc774\ud130\ub97c \uc0ac\uc6a9\ud55c \ud3b8\uc774 \uc88b\uace0 \ud654, \uc218\uc5d0\ub294 \ud3c9\uc77c \ub370\uc774\ud130\ub9cc \ud65c\uc6a9\ud558\ub294 \uac83\uc774 \uc88b\ub2e4."
     ]
    },
    {
     "cell_type": "markdown",
     "metadata": {},
     "source": [
      "\uc870\uae08 \ub354 \ub098\uc740 \ubd84\uc11d\uc744 \uc704\ud574 \uc77c\uc885\uc758 cross validation\uc744 \ud574\ubcf4\uc790."
     ]
    },
    {
     "cell_type": "code",
     "collapsed": false,
     "input": [
      "whole_data = pd.concat([april, may, june])"
     ],
     "language": "python",
     "metadata": {},
     "outputs": [],
     "prompt_number": 414
    },
    {
     "cell_type": "code",
     "collapsed": false,
     "input": [
      "whole_data['date'] = whole_data.date_time.apply(lambda x: x.date())\n",
      "whole_data['time'] = whole_data.date_time.apply(lambda x: \"{:02d}{:02d}\".format(x.hour, x.minute))\n",
      "whole_data['weekday'] = whole_data['date_time'].apply(lambda x: x.weekday())\n",
      "whole_data = whole_data.sort(['date', 'direction', 'index', 'time'])"
     ],
     "language": "python",
     "metadata": {},
     "outputs": [],
     "prompt_number": 415
    },
    {
     "cell_type": "code",
     "collapsed": false,
     "input": [
      "import random\n",
      "\n",
      "def crossvalidate():\n",
      "    # 91 days\n",
      "    days = range(91)\n",
      "    random.shuffle(days)\n",
      "\n",
      "    STRIDE = 2 * 126 * 288\n",
      "    \n",
      "    test_range = days[:10]\n",
      "    train_range = days[10:]\n",
      "    \n",
      "    train_data = []\n",
      "    for x in train_range:\n",
      "        train_data.append(whole_data[x * STRIDE:(x + 1) * STRIDE])\n",
      "        \n",
      "    test_data = []\n",
      "    for x in test_range:\n",
      "        test_data.append(whole_data[x * STRIDE:(x + 1) * STRIDE])\n",
      "        \n",
      "    cv_train = pd.concat(train_data)\n",
      "    cv_test = pd.concat(test_data)\n",
      "\n",
      "    return cv_train, cv_test"
     ],
     "language": "python",
     "metadata": {},
     "outputs": [],
     "prompt_number": 442
    },
    {
     "cell_type": "markdown",
     "metadata": {},
     "source": [
      "Crossvalidate \ud568\uc218\ub294 \ub9d0 \uadf8\ub300\ub85c k-fold cross validation\uc744 \ud558\uae30 \uc704\ud55c \ud568\uc218\uc774\ub2e4. \ub370\uc774\ud130\ub97c 10:81\uc73c\ub85c \ub098\ub204\ub3c4\ub85d \ud558\ub4dc\ucf54\ub529 \ub418\uc5b4 \uc788\uc73c\ub2c8 9-fold CV\ub77c \ud560 \uc218 \uc788\uaca0\ub2e4. \uc774\ub7f0\uc2dd\uc73c\ub85c \uc0ac\uc6a9\ud558\uae30 \uc704\ud574 \uba87 \uac00\uc9c0 \uac00\uc815\uc774 \ub4b7\ubc1b\uce68\ub418\uc5b4\uc57c \ud558\uc9c0\ub9cc \uc774\ub294 \ub41c\ub2e4\uace0 \uac00\uc815\ud558\uace0 \ubd84\uc11d\uc744 \ud574\ubcf4\uc790."
     ]
    },
    {
     "cell_type": "code",
     "collapsed": false,
     "input": [
      "def test_cv(prediction, test_data, dow='tue'):\n",
      "    week = ['mon', 'tue', 'wed', 'thu', 'fri', 'sat', 'sun']\n",
      "    i = week.index(dow.lower())\n",
      "    \n",
      "    test_data = test_data[test_data['weekday'] == i]\n",
      "    \n",
      "    STRIDE = 2 * 126 * 288\n",
      "    stepsize = len(test_data) / STRIDE\n",
      "    \n",
      "    result = []\n",
      "    for k in range(stepsize):\n",
      "        temp_data = test_data[k * STRIDE:(k + 1) * STRIDE]\n",
      "        temp_data = temp_data.sort(['direction', 'index', 'time'])\n",
      "        prediction = prediction.sort(['direction', 'index', 'time'])\n",
      "        \n",
      "        result.append(np.mean(np.abs(prediction.speed.values - temp_data.speed.values)))\n",
      "        \n",
      "    return result"
     ],
     "language": "python",
     "metadata": {},
     "outputs": [],
     "prompt_number": 443
    },
    {
     "cell_type": "code",
     "collapsed": false,
     "input": [
      "for x in range(10):\n",
      "    train, test = crossvalidate()\n",
      "\n",
      "    group = train.groupby(['direction', 'index', 'time'])\n",
      "    df = group.median()\n",
      "    cv_median_model = df.reset_index()\n",
      "    \n",
      "    weekdays = train[train['weekday'] < 5]\n",
      "    group = weekdays.groupby(['direction', 'index', 'time'])\n",
      "    df = group.median()\n",
      "    cv_weekday_median_model = df.reset_index()\n",
      "    \n",
      "    cv_median_model_res = test_cv(cv_median_model, test, 'tue')\n",
      "    cv_weekday_median_model_res = test_cv(cv_weekday_median_model, test, 'tue')\n",
      "    \n",
      "    print np.mean(cv_median_model_res), np.mean(cv_weekday_median_model_res)\n",
      "    print np.mean(cv_median_model_res) - np.mean(cv_weekday_median_model_res)"
     ],
     "language": "python",
     "metadata": {},
     "outputs": [
      {
       "output_type": "stream",
       "stream": "stdout",
       "text": [
        "5.7308320014 5.64618053259\n",
        "0.0846514688052\n",
        "5.01917396936"
       ]
      },
      {
       "output_type": "stream",
       "stream": "stdout",
       "text": [
        " 4.91857790454\n",
        "0.100596064815\n",
        "nan"
       ]
      },
      {
       "output_type": "stream",
       "stream": "stdout",
       "text": [
        " nan\n",
        "nan\n",
        "4.9950061315"
       ]
      },
      {
       "output_type": "stream",
       "stream": "stdout",
       "text": [
        " 4.91634886188\n",
        "0.0786572696209\n",
        "nan"
       ]
      },
      {
       "output_type": "stream",
       "stream": "stdout",
       "text": [
        " nan\n",
        "nan\n",
        "5.83914413856"
       ]
      },
      {
       "output_type": "stream",
       "stream": "stdout",
       "text": [
        " 5.84164896109\n",
        "-0.00250482253078\n",
        "4.8562787974"
       ]
      },
      {
       "output_type": "stream",
       "stream": "stdout",
       "text": [
        " 4.75965394896\n",
        "0.0966248484348\n",
        "5.46667066248"
       ]
      },
      {
       "output_type": "stream",
       "stream": "stdout",
       "text": [
        " 5.37352775022\n",
        "0.0931429122575\n",
        "nan"
       ]
      },
      {
       "output_type": "stream",
       "stream": "stdout",
       "text": [
        " nan\n",
        "nan\n",
        "5.68120648699"
       ]
      },
      {
       "output_type": "stream",
       "stream": "stdout",
       "text": [
        " 5.59890454145\n",
        "0.0823019455468\n"
       ]
      }
     ],
     "prompt_number": 444
    },
    {
     "cell_type": "markdown",
     "metadata": {},
     "source": [
      "\ud654\uc694\uc77c \uae30\uc900\uc73c\ub85c\ub294 \ud3c9\uc77c \ub370\uc774\ud130\ub97c \uc0ac\uc6a9\ud55c \uac83\uc774 \uac70\uc758 \ud56d\uc0c1 \uc6b0\uc6d4\ud558\ub2e4."
     ]
    },
    {
     "cell_type": "code",
     "collapsed": false,
     "input": [
      "for y in ['Mon', 'Tue', 'Wed', 'Thu', 'Fri', 'Sat', 'Sun']:\n",
      "    print y\n",
      "    result = []\n",
      "    for x in range(10):\n",
      "        train, test = crossvalidate()\n",
      "    \n",
      "        group = train.groupby(['direction', 'index', 'time'])\n",
      "        df = group.median()\n",
      "        cv_median_model = df.reset_index()\n",
      "        \n",
      "        weekdays = train[train['weekday'] < 5]\n",
      "        group = weekdays.groupby(['direction', 'index', 'time'])\n",
      "        df = group.median()\n",
      "        cv_weekday_median_model = df.reset_index()\n",
      "        \n",
      "        cv_median_model_res = test_cv(cv_median_model, test, y)\n",
      "        cv_weekday_median_model_res = test_cv(cv_weekday_median_model, test, y)\n",
      "        \n",
      "        result.append(np.mean(cv_median_model_res) - np.mean(cv_weekday_median_model_res))\n",
      "    print result"
     ],
     "language": "python",
     "metadata": {},
     "outputs": [
      {
       "output_type": "stream",
       "stream": "stdout",
       "text": [
        "Mon\n",
        "[nan, -0.037003692680729117, 0.017944223985988828, -0.053671461640165674, -0.018101438492005073, 0.0025154320987752499, 0.014292603615570165, -0.030870673500841939, -0.018506485155723951, -0.047370067239898894]"
       ]
      },
      {
       "output_type": "stream",
       "stream": "stdout",
       "text": [
        "\n",
        "Tue\n",
        "[0.071944168871228342, -0.016789572310431211, nan, nan, 0.086851300705427903, 0.013157862103265749, 0.025897197420687412, 0.10321139219580466, 0.019178516313936633, 0.083144979056429591]"
       ]
      },
      {
       "output_type": "stream",
       "stream": "stdout",
       "text": [
        "\n",
        "Wed\n",
        "[0.057922660383598057, 0.035372046773933796, nan, nan, nan, nan, nan, 0.029073178461231919, nan, -0.0030846974205269717]"
       ]
      },
      {
       "output_type": "stream",
       "stream": "stdout",
       "text": [
        "\n",
        "Thu\n",
        "[nan, 0.087597415123473965, 0.053271604938280426, 0.060279775683460102, 0.012752700617274293, 0.077648258377418955, 0.1007045028659963, 0.073843763778683957, 0.095754657187016257, 0.012541290049999709]"
       ]
      },
      {
       "output_type": "stream",
       "stream": "stdout",
       "text": [
        "\n",
        "Fri\n",
        "[nan, 0.014818259479712381, -0.0028717482363536107, 0.0054254850088319984, 0.033432815255778792, -0.084203317901193842, -0.2465878527336649, 0.039594631834271254, 0.037854111552076297, 0.10066647376547699]"
       ]
      },
      {
       "output_type": "stream",
       "stream": "stdout",
       "text": [
        "\n",
        "Sat\n",
        "[nan, nan, -0.27002645502641798, -0.29335358796295807, -0.17482170414464626, -0.30133694334208982, nan, -0.28994846781294115, -0.25838031856255217, -0.29131627535269988]"
       ]
      },
      {
       "output_type": "stream",
       "stream": "stdout",
       "text": [
        "\n",
        "Sun\n",
        "[nan, -0.29084077380947715, nan, -0.36893862985006987, -0.36974316578470656, -0.40952746086856973, -0.33498546351409075, -0.41576030643733652, nan, -0.2834543099646929]"
       ]
      },
      {
       "output_type": "stream",
       "stream": "stdout",
       "text": [
        "\n"
       ]
      }
     ],
     "prompt_number": 445
    },
    {
     "cell_type": "markdown",
     "metadata": {},
     "source": [
      "\uc804\uccb4 \uc694\uc77c\uc5d0 \ub300\ud574 \ube44\uc2b7\ud558\uac8c cross validation \ubd84\uc11d\uc744 \ud574\ubcf4\uba74 \uc804\uccb4 \ub370\uc774\ud130\ub97c \uc0ac\uc6a9\ud558\ub294 \ud3b8\uc774 \uc8fc\ub9d0\uc740 \ubb3c\ub860\uc774\uace0 \uc6d4\uc694\uc77c\uc5d0\ub3c4 \ub354 \uc6b0\uc6d4\ud55c \uc804\ub7b5\uc774\ub2e4. \ud654\uc694\uc77c\uacfc \uc218\uc694\uc77c, \ubaa9\uc694\uc77c \uadf8\ub9ac\uace0 \uae08\uc694\uc77c\uc5d0\ub294 \ud3c9\uc77c \ub370\uc774\ud130\ub9cc \uc0ac\uc6a9\ud558\ub294 \ud3b8\uc774 \ub354 \uc6b0\uc6d4\ud558\ub2e4. \uc774\ub294 \ub530\ub85c cross validation\uc744 \ud558\uc9c0 \uc54a\uc740 \uacb0\uacfc\uc640 \ube44\uc2b7\ud574 \ubcf4\uc778\ub2e4. \ube44\ub85d 10\ud68c \ubc16\uc5d0 \ubc18\ubcf5\uc744 \ud558\uc9c0 \uc54a\uc544 \ud1b5\uacc4\uc801\uc778 \uc548\uc815\uc131\uc744 \ub9d0\ud560 \uc218\ub294 \uc5c6\uc9c0\ub9cc, \uc801\uc5b4\ub3c4 \ud654\uc694\uc77c\uc5d0\ub294 \ud3c9\uc77c \ub370\uc774\ud130\ub9cc \uc0ac\uc6a9\ud558\ub294 \ud3b8\uc774 \ub354 \ub098\uc740 \uac83\uc73c\ub85c \ubcf4\uc778\ub2e4.\n",
      "\n",
      "\uc694\uc77c\ubcc4\ub85c \uc591\uc0c1\uc774 \ub2e4\ub978 \uac83\uc744 \uace0\ub824\ud55c\ub2e4\uba74 \ubaa9\ud45c \uc608\uce21 \uc694\uc77c\ubcc4 \ub370\uc774\ud130\ub97c \ubf51\uc544\ub0b4\ub294 \ubaa8\uc9d1\ub2e8\ub3c4 \ub354 \uc138\ubc00\ud558\uac8c \ub098\ub220\ubcf4\ub294 \uac83\uc744 \uace0\ub824\ud560 \uc218 \uc788\uc744 \uac83\uc774\ub2e4."
     ]
    },
    {
     "cell_type": "markdown",
     "metadata": {},
     "source": [
      "\ucd5c\uc885 loss function\uc774 MAE (mean absolute error) \uc774\ubbc0\ub85c \ud3c9\uade0\uac12 (mean) \ubcf4\ub2e4\ub294 \uc911\uc559\uac12 (median) \uc744 \uc0ac\uc6a9\ud558\ub294 \ud3b8\uc774 \ub354 \uc131\ub2a5\uc774 \uc88b\uc744 \uac83\uc774\ub77c\uace0 \uc0dd\uac01\ud560 \uc218 \uc788\ub2e4. \uc774\ub97c \uac80\uc99d\ud558\ub294 \uac83\uc740 \uc26c\uc6b4 \ubb38\uc81c\uc774\ub2e4."
     ]
    },
    {
     "cell_type": "code",
     "collapsed": false,
     "input": [
      "whole_week = pd.concat([april, may])\n",
      "whole_week['time'] = whole_week.date_time.apply(lambda x: \"{:02d}{:02d}\".format(x.hour, x.minute))\n",
      "group = whole_week.groupby(['direction', 'index', 'time'])\n",
      "df = group.mean()\n",
      "mean_model = df.reset_index()\n",
      "\n",
      "mean_res = test_june(mean_model, 'tue')\n",
      "print np.mean(mean_res)\n",
      "print mean_res"
     ],
     "language": "python",
     "metadata": {},
     "outputs": [
      {
       "output_type": "stream",
       "stream": "stdout",
       "text": [
        "6.04020650371\n",
        "[5.5189650961704766, 6.0169240497694316, 6.9158139121997166, 5.7091229566925117]\n"
       ]
      }
     ],
     "prompt_number": 446
    },
    {
     "cell_type": "markdown",
     "metadata": {},
     "source": [
      "Median\uc744 \uc0ac\uc6a9\ud55c \ubaa8\ub378\uc758 \uc5d0\ub7ec\ub294 5.86801621748 \uc600\ub294\ub370, mean\uc744 \uc0ac\uc6a9\ud55c \ubaa8\ub378\uc740 6.04020650371 \ub85c \ud06c\uac8c \ucc28\uc774\ub09c\ub2e4."
     ]
    },
    {
     "cell_type": "code",
     "collapsed": false,
     "input": [
      "weekdays = pd.concat([april, may])\n",
      "weekdays['weekday'] = weekdays['date_time'].apply(lambda x: x.weekday())\n",
      "weekdays = weekdays[weekdays['weekday'] < 5]\n",
      "del weekdays['weekday']\n",
      "weekdays['time'] = weekdays.date_time.apply(lambda x: \"{:02d}{:02d}\".format(x.hour, x.minute))\n",
      "group = weekdays.groupby(['direction', 'index', 'time'])\n",
      "df = group.mean()\n",
      "weekday_mean_model = df.reset_index()\n",
      "\n",
      "weekday_mean_res = test_june(weekday_mean_model, 'tue')\n",
      "print np.mean(weekday_mean_res)\n",
      "print weekday_mean_res"
     ],
     "language": "python",
     "metadata": {},
     "outputs": [
      {
       "output_type": "stream",
       "stream": "stdout",
       "text": [
        "5.9240332326\n",
        "[5.2767339187732576, 5.8565075109004887, 6.9358504066235662, 5.6270410940868256]\n"
       ]
      }
     ],
     "prompt_number": 447
    },
    {
     "cell_type": "markdown",
     "metadata": {},
     "source": [
      "\uc8fc\uc911 \ub370\uc774\ud130\ub9cc \uc0ac\uc6a9\ud55c \uacbd\uc6b0\uc5d0\ub3c4 \ub9c8\ucc2c\uac00\uc9c0\uc758 \uacb0\uacfc\ub97c \uc5bb\uc744 \uc218 \uc788\ub2e4. Median \uae30\ubc18\uc740 5.85363191689 \uc778\ub370 mean \uae30\ubc18\uc740 5.9240332326 \uc774\ub2e4."
     ]
    },
    {
     "cell_type": "code",
     "collapsed": false,
     "input": [],
     "language": "python",
     "metadata": {},
     "outputs": []
    }
   ],
   "metadata": {}
  }
 ]
}